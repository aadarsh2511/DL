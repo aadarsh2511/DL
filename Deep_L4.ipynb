{
 "cells": [
  {
   "cell_type": "code",
   "execution_count": 1,
   "id": "d494ebd3-4947-446f-b805-222a1da04603",
   "metadata": {},
   "outputs": [
    {
     "name": "stdout",
     "output_type": "stream",
     "text": [
      "Predicted word: machine\n"
     ]
    }
   ],
   "source": [
    "import numpy as np\n",
    "from sklearn.preprocessing import OneHotEncoder\n",
    "\n",
    "# Sample corpus and parameters\n",
    "corpus = [\"I like machine learning\", \"I enjoy deep\", \"Coding is fascinating\"]\n",
    "window_size, embedding_dim, lr, epochs = 2, 5, 0.01, 100\n",
    "\n",
    "# Preprocessing: Tokenize and create vocabulary\n",
    "words = [word for sentence in corpus for word in sentence.lower().split()]\n",
    "vocab = sorted(set(words))\n",
    "word_to_index = {word: idx for idx, word in enumerate(vocab)}\n",
    "index_to_word = {idx: word for word, idx in word_to_index.items()}\n",
    "\n",
    "# One-hot encoding\n",
    "encoder = OneHotEncoder(sparse_output=False)\n",
    "one_hot_matrix = encoder.fit_transform(np.array(vocab).reshape(-1, 1))\n",
    "\n",
    "# Generate training data\n",
    "def generate_training_data(words, window_size):\n",
    "    X, y = [], []\n",
    "    for i in range(window_size, len(words) - window_size):\n",
    "        context = words[i - window_size:i] + words[i + 1:i + window_size + 1]\n",
    "        target = words[i]\n",
    "        X.append(np.sum([one_hot_matrix[word_to_index[w]] for w in context], axis=0))\n",
    "        y.append(one_hot_matrix[word_to_index[target]])\n",
    "    return np.array(X), np.array(y)\n",
    "\n",
    "X_train, y_train = generate_training_data(words, window_size)\n",
    "\n",
    "# Model parameters and layers\n",
    "W1 = np.random.rand(len(vocab), embedding_dim)\n",
    "W2 = np.random.rand(embedding_dim, len(vocab))\n",
    "\n",
    "# Training the CBOW model\n",
    "for _ in range(epochs):\n",
    "    for x, target in zip(X_train, y_train):\n",
    "        # Forward pass\n",
    "        h = np.dot(x, W1)  # Hidden layer\n",
    "        u = np.dot(h, W2)  # Output layer\n",
    "        y_pred = np.exp(u) / np.sum(np.exp(u))  # Softmax activation\n",
    "\n",
    "        # Calculate error\n",
    "        e = y_pred - target  # Difference between predicted and actual output\n",
    "\n",
    "        # Backpropagation and weight updates\n",
    "        W2 -= lr * np.outer(h, e)  # Update W2\n",
    "        # Update W1 rows corresponding to context words\n",
    "        for word_idx in np.where(x != 0)[0]:\n",
    "            W1[word_idx, :] -= lr * np.dot(e, W2.T)\n",
    "\n",
    "# Word prediction function\n",
    "def predict(context_words):\n",
    "    context_vec = np.sum([one_hot_matrix[word_to_index[word]] for word in context_words], axis=0)\n",
    "    h = np.dot(context_vec, W1)  # Hidden layer\n",
    "    u = np.dot(h, W2)  # Output layer\n",
    "    y_pred = np.exp(u) / np.sum(np.exp(u))  # Softmax activation\n",
    "    return index_to_word[np.argmax(y_pred)]\n",
    "\n",
    "# Test prediction\n",
    "print(\"Predicted word:\", predict([\"i\", \"like\", \"learning\", \"i\"]))"
   ]
  },
  {
   "cell_type": "code",
   "execution_count": null,
   "id": "a6124c73-ae06-4327-8a0a-1db6ce4820d5",
   "metadata": {},
   "outputs": [],
   "source": []
  }
 ],
 "metadata": {
  "kernelspec": {
   "display_name": "Python 3 (ipykernel)",
   "language": "python",
   "name": "python3"
  },
  "language_info": {
   "codemirror_mode": {
    "name": "ipython",
    "version": 3
   },
   "file_extension": ".py",
   "mimetype": "text/x-python",
   "name": "python",
   "nbconvert_exporter": "python",
   "pygments_lexer": "ipython3",
   "version": "3.11.7"
  }
 },
 "nbformat": 4,
 "nbformat_minor": 5
}
